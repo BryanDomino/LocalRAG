{
 "cells": [
  {
   "cell_type": "markdown",
   "id": "6ed201bf",
   "metadata": {},
   "source": [
    "# Document Search using Retrieval Augmented Generation (RAG)\n",
    "\n",
    "In this project we demonstrate the use of a pre-trained Large Language Model (LLM) in Domino and the process of augmenting this model using Retrieval Augmented Generation (RAG) with documents to tailor to our use case. We will use the Meta's open source [Llama2 model](https://ai.meta.com/llama/) and [Qdrant vector database](https://qdrant.tech/) to enable us to run the entire chain on Domino.\n",
    "\n",
    "In this notebook we will:\n",
    "1. Fetch and Process the Documents\n",
    "2. Initialise the Vector Store\n",
    "3. Fetch and Initialise the Llama2 Model\n",
    "4. Create the QA chain and test it!"
   ]
  },
  {
   "cell_type": "code",
   "execution_count": 1,
   "id": "76cf8b58",
   "metadata": {},
   "outputs": [
    {
     "name": "stderr",
     "output_type": "stream",
     "text": [
      "/usr/local/lib/python3.8/dist-packages/tqdm/auto.py:22: TqdmWarning: IProgress not found. Please update jupyter and ipywidgets. See https://ipywidgets.readthedocs.io/en/stable/user_install.html\n",
      "  from .autonotebook import tqdm as notebook_tqdm\n"
     ]
    }
   ],
   "source": [
    "# Import all the dependencies\n",
    "from qdrant_client import models, QdrantClient\n",
    "from langchain.embeddings import HuggingFaceBgeEmbeddings\n",
    "from langchain.llms.huggingface_pipeline import HuggingFacePipeline\n",
    "from langchain.document_loaders import PyPDFLoader, PyPDFDirectoryLoader\n",
    "from langchain.vectorstores.qdrant import Qdrant\n",
    "from langchain.text_splitter import RecursiveCharacterTextSplitter\n",
    "from langchain.chains import RetrievalQA\n",
    "from langchain import PromptTemplate\n",
    "from peft import PeftModel, PeftConfig\n",
    "#\n",
    "from tqdm.auto import tqdm\n",
    "from uuid import uuid4\n",
    "from transformers import AutoTokenizer, AutoModelForCausalLM, BitsAndBytesConfig, pipeline\n",
    "from sentence_transformers import SentenceTransformer, util\n",
    "import pandas as pd\n",
    "\n",
    "#\n",
    "import os\n",
    "import random\n",
    "import torch\n",
    "import warnings\n",
    "warnings.filterwarnings('ignore')"
   ]
  },
  {
   "cell_type": "markdown",
   "id": "6b90800f",
   "metadata": {},
   "source": [
    "## Get Our Documents And Embeddings\n",
    "In this example we will read from a document in our repository in the sample_data folder.\n",
    "\n",
    "**Note: You will need to customise this section to your specific use case**\n",
    "\n",
    "Domino has many ways to access data. Please see our [documentation to find the method that suits your use case](https://docs.dominodatalab.com/en/latest/user_guide/16d9c1/work-with-data/)."
   ]
  },
  {
   "cell_type": "code",
   "execution_count": 4,
   "id": "160eb12a",
   "metadata": {
    "tags": []
   },
   "outputs": [],
   "source": [
    "# Load the document that you need to parse, please change the location to where the pdf resides\n",
    "\n",
    "# Load 1 PDF file\n",
    "# loader = PyPDFLoader(\"/mnt/code/sample_data/MLOps_whitepaper.pdf\")\n",
    "# or load an entire folder\n",
    "loader = PyPDFDirectoryLoader(\"/mnt/code/sample_data/\")\n",
    "data = loader.load_and_split(RecursiveCharacterTextSplitter(chunk_size=1000, chunk_overlap=0))"
   ]
  },
  {
   "cell_type": "code",
   "execution_count": 5,
   "id": "69e008c6",
   "metadata": {
    "tags": []
   },
   "outputs": [
    {
     "name": "stdout",
     "output_type": "stream",
     "text": [
      "There are 36 chunks in the documents\n"
     ]
    }
   ],
   "source": [
    "print(f\"There are {len(data)} chunks in the documents\")"
   ]
  },
  {
   "cell_type": "code",
   "execution_count": 6,
   "id": "fb61618c",
   "metadata": {
    "tags": []
   },
   "outputs": [
    {
     "name": "stdout",
     "output_type": "stream",
     "text": [
      "page_content='distributed team together in a collaborative\\nway so we can operationalize data science, at\\nscale, across the company,” says a Senior IT\\nArchitect at the ﬁnancial services company.\\nBeneﬁts of Enterprise MLOps\\nCapacity\\n- Increased throughput \\nand capabilities of data science \\nteams\\nQuality\\n- Reusability, knowledge \\nmanagement and collaboration\\nGovernance\\n- Tools and \\ninfrastructure options for any use \\ncase\\nOperations\\n- Enable standards \\nand governance across teams\\nManagement\\n- Align personnel, \\ninfrastructure costs, and project \\nprioritization with business value\\n11' metadata={'source': '/mnt/code/sample_data/MLOps_whitepaper.pdf', 'page': 11}\n"
     ]
    }
   ],
   "source": [
    "# Pick a sample page\n",
    "print(data[random.randint(0, len(data))])"
   ]
  },
  {
   "cell_type": "code",
   "execution_count": 7,
   "id": "d01f94be",
   "metadata": {
    "tags": []
   },
   "outputs": [
    {
     "name": "stdout",
     "output_type": "stream",
     "text": [
      "36 36\n"
     ]
    }
   ],
   "source": [
    "# Split the data into pages\n",
    "metadatas = []\n",
    "texts = []\n",
    "for row in data:\n",
    "  metadatas.append(row.metadata)\n",
    "  texts.append(row.page_content)\n",
    "print(len(metadatas),len(texts))"
   ]
  },
  {
   "cell_type": "code",
   "execution_count": 8,
   "id": "1d64bffb",
   "metadata": {
    "tags": []
   },
   "outputs": [],
   "source": [
    "# Load the embedding model and cache it in our artifacts directory\n",
    "model_kwargs = {'device': 'cpu'}\n",
    "encode_kwargs = {'normalize_embeddings': True}\n",
    "embedding_model_name = \"BAAI/bge-small-en\"\n",
    "os.environ['SENTENCE_TRANSFORMERS_HOME'] = '/mnt/artifacts/model_cache/'\n",
    "embeddings = HuggingFaceBgeEmbeddings(model_name=\"BAAI/bge-small-en\",\n",
    "                                      model_kwargs=model_kwargs,\n",
    "                                      encode_kwargs=encode_kwargs\n",
    "                                     )"
   ]
  },
  {
   "cell_type": "markdown",
   "id": "3506d23b",
   "metadata": {},
   "source": [
    "## Initialise The Vector Database\n",
    "Now we can create the collection in the Qdrant Vector Database.\n",
    "\n",
    "**Note: This step takes several minutes!**"
   ]
  },
  {
   "cell_type": "code",
   "execution_count": 9,
   "id": "e92be7e2",
   "metadata": {},
   "outputs": [],
   "source": [
    "# Persist the embeddings to disk in our artifacts directory\n",
    "doc_store = Qdrant.from_texts(texts,\n",
    "                              metadatas=metadatas,\n",
    "                              embedding=embeddings,\n",
    "                              path=\"/mnt/artifacts/local_qdrant/\",\n",
    "                              prefer_grpc=True,\n",
    "                              collection_name=\"mlops\")"
   ]
  },
  {
   "cell_type": "markdown",
   "id": "e34efd00",
   "metadata": {},
   "source": [
    "## Initialise The Model\n",
    "\n",
    "Now that we have the Vector Store and the Embedding Model we need to get the Foundation Model that we will be using.\n",
    "In this case we are leveraging the open source Llama2 model Llama-2-7b-chat-hf. In contrast to third party services like OpenAI this open source model allows you to download the model into your cloud and run it entirely in your enterprises ecosystem meaning you have tighter controls over security and governance.\n",
    "\n",
    "We will:\n",
    "1. Set up the prompt for this use case\n",
    "2. Configure bitsandbytes for the quantisation we need\n",
    "3. Download, configure and save the Llama2 model"
   ]
  },
  {
   "cell_type": "markdown",
   "id": "2688f17d",
   "metadata": {},
   "source": [
    "### 1. Set up the prompt"
   ]
  },
  {
   "cell_type": "code",
   "execution_count": 10,
   "id": "6e299563",
   "metadata": {
    "tags": []
   },
   "outputs": [],
   "source": [
    "# Setup the prompt template to use for the QA bot\n",
    "prompt_template = \"\"\"Use the following pieces of context to answer the question enclosed within  3 backticks at the end. If you don't know the answer, just say that you don't know, don't try to make up an answer.\n",
    "Please provide an answer which is factually correct and based on the information retrieved from the vector store.\n",
    "Please also mention any quotes supporting the answer if any present in the context supplied within two double quotes \"\" .\n",
    "\n",
    "{context}\n",
    "\n",
    "QUESTION:```{question}```\n",
    "ANSWER:\n",
    "\"\"\"\n",
    "PROMPT = PromptTemplate(template=prompt_template, input_variables=[\"context\",\"question\"])\n",
    "#\n"
   ]
  },
  {
   "cell_type": "markdown",
   "id": "b460c21c",
   "metadata": {},
   "source": [
    "### 2. Configure bitsandbytes"
   ]
  },
  {
   "cell_type": "code",
   "execution_count": 11,
   "id": "52f844bc",
   "metadata": {
    "tags": []
   },
   "outputs": [],
   "source": [
    "# Configure bitsandbytes\n",
    "chain_type_kwargs = {\"prompt\": PROMPT}\n",
    "\n",
    "\n",
    "################################################################################\n",
    "# bitsandbytes parameters\n",
    "################################################################################\n",
    "\n",
    "# Activate 4-bit precision base model loading\n",
    "use_4bit = True\n",
    "\n",
    "# Compute dtype for 4-bit base models\n",
    "bnb_4bit_compute_dtype = \"float16\"\n",
    "\n",
    "# Quantization type (fp4 or nf4)\n",
    "bnb_4bit_quant_type = \"nf4\"\n",
    "\n",
    "# Activate nested quantization for 4-bit base models (double quantization)\n",
    "use_nested_quant = False\n",
    "\n",
    "# Load tokenizer and model with QLoRA configuration\n",
    "compute_dtype = getattr(torch, bnb_4bit_compute_dtype)\n",
    "\n",
    "bnb_config = BitsAndBytesConfig(\n",
    "    load_in_4bit=use_4bit,\n",
    "    bnb_4bit_quant_type=bnb_4bit_quant_type,\n",
    "    bnb_4bit_compute_dtype=compute_dtype,\n",
    "    bnb_4bit_use_double_quant=use_nested_quant,\n",
    ")"
   ]
  },
  {
   "cell_type": "markdown",
   "id": "064b3e6e",
   "metadata": {},
   "source": [
    "### 3. Download and configure the model\n",
    "\n",
    "**Note: This step can take several minutes**"
   ]
  },
  {
   "cell_type": "code",
   "execution_count": 12,
   "id": "80bb6b46",
   "metadata": {},
   "outputs": [
    {
     "name": "stderr",
     "output_type": "stream",
     "text": [
      "Downloading shards: 100%|██████████| 2/2 [00:00<00:00,  9.11it/s]\n",
      "huggingface/tokenizers: The current process just got forked, after parallelism has already been used. Disabling parallelism to avoid deadlocks...\n",
      "To disable this warning, you can either:\n",
      "\t- Avoid using `tokenizers` before the fork if possible\n",
      "\t- Explicitly set the environment variable TOKENIZERS_PARALLELISM=(true | false)\n",
      "huggingface/tokenizers: The current process just got forked, after parallelism has already been used. Disabling parallelism to avoid deadlocks...\n",
      "To disable this warning, you can either:\n",
      "\t- Avoid using `tokenizers` before the fork if possible\n",
      "\t- Explicitly set the environment variable TOKENIZERS_PARALLELISM=(true | false)\n",
      "Loading checkpoint shards: 100%|██████████| 2/2 [01:42<00:00, 51.06s/it]\n",
      "tokenizer_config.json: 100%|██████████| 746/746 [00:00<00:00, 114kB/s]\n",
      "tokenizer.model: 100%|██████████| 500k/500k [00:00<00:00, 16.8MB/s]\n",
      "tokenizer.json: 100%|██████████| 1.84M/1.84M [00:00<00:00, 4.11MB/s]\n",
      "added_tokens.json: 100%|██████████| 21.0/21.0 [00:00<00:00, 12.0kB/s]\n",
      "special_tokens_map.json: 100%|██████████| 435/435 [00:00<00:00, 256kB/s]\n"
     ]
    }
   ],
   "source": [
    "model_id = \"NousResearch/Llama-2-7b-chat-hf\"\n",
    "\n",
    "model = AutoModelForCausalLM.from_pretrained(\n",
    "    model_id,\n",
    "    cache_dir=\"/mnt/artifacts/model_cache/\",\n",
    "    quantization_config=bnb_config,\n",
    "    device_map='auto'\n",
    ")\n",
    "\n",
    "# Load LLaMA tokenizer\n",
    "tokenizer = AutoTokenizer.from_pretrained(model_id, trust_remote_code=True)\n",
    "tokenizer.add_special_tokens({'pad_token': '[PAD]'})\n",
    "tokenizer.pad_token = tokenizer.eos_token\n",
    "tokenizer.padding_side = \"right\"\n",
    "tokenizer.pad_token_id = model.config.eos_token_id"
   ]
  },
  {
   "cell_type": "markdown",
   "id": "09c892a6",
   "metadata": {},
   "source": [
    "## Putting it all together!\n",
    "\n",
    "Now we have our Vector Database with our documents in it and our configured model we can create our RAG QA chain."
   ]
  },
  {
   "cell_type": "code",
   "execution_count": 13,
   "id": "5be1713f",
   "metadata": {},
   "outputs": [],
   "source": [
    "# Setup the QA chain\n",
    "pipe = pipeline(\"text-generation\", model=model, tokenizer=tokenizer, max_new_tokens=200)\n",
    "rag_llm = HuggingFacePipeline(pipeline=pipe)\n",
    "    \n",
    "qa_chain = RetrievalQA.from_chain_type(llm=rag_llm,\n",
    "                                       chain_type=\"stuff\",\n",
    "                                       chain_type_kwargs={\"prompt\": PROMPT},\n",
    "                                       retriever=doc_store.as_retriever(search_kwargs={\"k\": 5}),\n",
    "                                       return_source_documents=True\n",
    "                                      )"
   ]
  },
  {
   "cell_type": "markdown",
   "id": "af742d3e",
   "metadata": {},
   "source": [
    "Now we can test our model!\n",
    "\n",
    "Run the following cell and ask a question based on the documents you have added to the vector store. You may want to play with the max_new_tokens parameter in the cell above."
   ]
  },
  {
   "cell_type": "code",
   "execution_count": 14,
   "id": "0ca5fc2c",
   "metadata": {},
   "outputs": [
    {
     "name": "stdin",
     "output_type": "stream",
     "text": [
      "Please provide your question here : How much are companies spending on AI?\n"
     ]
    },
    {
     "name": "stdout",
     "output_type": "stream",
     "text": [
      "According to the article, companies are spending heavily on AI, with 62% of firms investing over $50 million and 17% investing more than $500 million.\n",
      "\n",
      "BACKGROUND:\n",
      "The article provides information on the growing investment in AI by companies, with 62% of firms investing over $50 million and 17% investing more than $500 million.\n",
      "\n",
      "CONTEXT:\n",
      "The article discusses the challenges of scaling data science and the importance of clearing obstacles to achieve data science at scale. It also mentions that 75% of executives believe that their companies will most likely go out of business if they can’t scale data science successfully within the next ﬁve years.\n",
      "\n",
      "QUOTES:\n",
      "\n",
      "* “The cost of improving or replacing a model was too high.” - Jacob Grotta, General Manager\n"
     ]
    }
   ],
   "source": [
    "# Ask a question\n",
    "user_question = input(\"Please provide your question here :\")\n",
    "result = qa_chain(user_question)\n",
    "print(result['result'])"
   ]
  },
  {
   "cell_type": "code",
   "execution_count": null,
   "id": "622a9615",
   "metadata": {},
   "outputs": [],
   "source": []
  }
 ],
 "metadata": {
  "dca-init": "true",
  "kernelspec": {
   "display_name": "Python 3 (ipykernel)",
   "language": "python",
   "name": "python3"
  },
  "language_info": {
   "codemirror_mode": {
    "name": "ipython",
    "version": 3
   },
   "file_extension": ".py",
   "mimetype": "text/x-python",
   "name": "python",
   "nbconvert_exporter": "python",
   "pygments_lexer": "ipython3",
   "version": "3.8.10"
  }
 },
 "nbformat": 4,
 "nbformat_minor": 5
}
