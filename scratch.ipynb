{
 "cells": [
  {
   "cell_type": "code",
   "execution_count": 6,
   "id": "089f40f1",
   "metadata": {},
   "outputs": [],
   "source": [
    "myprompt = \"How do I change the batteries in the key fob?\""
   ]
  },
  {
   "cell_type": "code",
   "execution_count": 7,
   "id": "28c40c23",
   "metadata": {},
   "outputs": [],
   "source": [
    "import requests\n",
    " \n",
    "response = requests.post(\"https://se-demo.domino.tech:443/models/65b2846db2e5737d566de52e/latest/model\",\n",
    "    auth=(\n",
    "        \"dWyCVvxpastxkWhGf0TIXMXpsWWGnSrfGzFAV7yr3O33f4Hs3qmeQB5sWxbfrLy7\",\n",
    "        \"dWyCVvxpastxkWhGf0TIXMXpsWWGnSrfGzFAV7yr3O33f4Hs3qmeQB5sWxbfrLy7\"\n",
    "    ),\n",
    "    json={\n",
    "        \"data\": {\n",
    "            \"prompt\": myprompt\n",
    "        }\n",
    "    }\n",
    ")"
   ]
  },
  {
   "cell_type": "code",
   "execution_count": 8,
   "id": "ec6248a1",
   "metadata": {},
   "outputs": [
    {
     "name": "stdout",
     "output_type": "stream",
     "text": [
      "The process for changing the batteries in the key fob of a Nissan Ariya is outlined in the owner's manual. According to the manual, the battery is located in the Intelligent Key and can be replaced by following these steps:\n",
      "\n",
      "1. Remove the mechanical key from the Intelligent Key.\n",
      "2. Insert a small screwdriver into the slit (on the right and left sides) and twist it to separate the upper part from the lower part.\n",
      "3. Remove the old battery and replace it with a new one, such as a CR2032 or equivalent.\n",
      "4. Align the tips of the upper and lower parts and push them together until it is securely closed.\n",
      "5. Operate the buttons to check its operation.\n",
      "\n",
      "It is important to note that the Intelligent Key battery has a lifespan of approximately 2 years, and the indicator light on the key fob will\n"
     ]
    }
   ],
   "source": [
    "print(response.json()[\"result\"][\"text_from_llm\"])"
   ]
  },
  {
   "cell_type": "code",
   "execution_count": null,
   "id": "cc5ba44b",
   "metadata": {},
   "outputs": [],
   "source": []
  },
  {
   "cell_type": "code",
   "execution_count": null,
   "id": "e2fa7319",
   "metadata": {},
   "outputs": [],
   "source": []
  }
 ],
 "metadata": {
  "kernelspec": {
   "display_name": "Python 3 (ipykernel)",
   "language": "python",
   "name": "python3"
  },
  "language_info": {
   "codemirror_mode": {
    "name": "ipython",
    "version": 3
   },
   "file_extension": ".py",
   "mimetype": "text/x-python",
   "name": "python",
   "nbconvert_exporter": "python",
   "pygments_lexer": "ipython3",
   "version": "3.8.10"
  }
 },
 "nbformat": 4,
 "nbformat_minor": 5
}
