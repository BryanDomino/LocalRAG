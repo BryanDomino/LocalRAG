{
 "cells": [
  {
   "cell_type": "code",
   "execution_count": 1,
   "id": "e87f1928",
   "metadata": {},
   "outputs": [
    {
     "name": "stderr",
     "output_type": "stream",
     "text": [
      "/usr/local/lib/python3.8/dist-packages/tqdm/auto.py:22: TqdmWarning: IProgress not found. Please update jupyter and ipywidgets. See https://ipywidgets.readthedocs.io/en/stable/user_install.html\n",
      "  from .autonotebook import tqdm as notebook_tqdm\n"
     ]
    }
   ],
   "source": [
    "# Import all the dependencies\n",
    "from qdrant_client import models, QdrantClient\n",
    "from langchain.embeddings import HuggingFaceBgeEmbeddings\n",
    "from langchain.llms.huggingface_pipeline import HuggingFacePipeline\n",
    "from langchain.document_loaders import PyPDFLoader, PyPDFDirectoryLoader\n",
    "from langchain.vectorstores.qdrant import Qdrant\n",
    "from langchain.text_splitter import RecursiveCharacterTextSplitter\n",
    "from langchain.chains import RetrievalQA\n",
    "from langchain import PromptTemplate\n",
    "from peft import PeftModel, PeftConfig\n",
    "#\n",
    "from tqdm.auto import tqdm\n",
    "from uuid import uuid4\n",
    "from transformers import AutoTokenizer, AutoModelForCausalLM, BitsAndBytesConfig, pipeline\n",
    "from sentence_transformers import SentenceTransformer, util\n",
    "import pandas as pd\n",
    "\n",
    "#\n",
    "import os\n",
    "import random\n",
    "import torch\n",
    "import warnings\n",
    "#warnings.filterwarnings('ignore')"
   ]
  },
  {
   "cell_type": "code",
   "execution_count": 2,
   "id": "947fa631",
   "metadata": {
    "tags": []
   },
   "outputs": [],
   "source": [
    "# Load the document that you need to parse, please change the location to where the pdf resides\n",
    "\n",
    "# Load 1 PDF file\n",
    "# loader = PyPDFLoader(\"/mnt/data/smuckers_poc/RAG/2024-First-Quarter-Results.pdf\")\n",
    "# or load an entire folder\n",
    "loader = PyPDFDirectoryLoader(\"/mnt/data/\" + os.environ['DOMINO_PROJECT_NAME'] + \"/\" + os.environ['CUSTOMER_NAME'])\n",
    "data = loader.load_and_split(RecursiveCharacterTextSplitter(chunk_size=1000, chunk_overlap=0))"
   ]
  },
  {
   "cell_type": "code",
   "execution_count": 3,
   "id": "bbf8ba9b",
   "metadata": {
    "tags": []
   },
   "outputs": [
    {
     "name": "stdout",
     "output_type": "stream",
     "text": [
      "There are 1975 chunks in the documents\n"
     ]
    }
   ],
   "source": [
    "print(f\"There are {len(data)} chunks in the documents\")"
   ]
  },
  {
   "cell_type": "code",
   "execution_count": 4,
   "id": "c2cf7799",
   "metadata": {
    "tags": []
   },
   "outputs": [
    {
     "name": "stdout",
     "output_type": "stream",
     "text": [
      "page_content='2-16 Instruments and controlsIf an ABS malfunction occurs, the anti-\\nlock function is turned off. The brake\\nsystem then operates normally, but with-out anti-lock assistance. (See “Brake sys-\\ntem” (P.5-152).)\\nApproaching Vehicle Sound\\nfor Pedestrians (VSP) OFF indicator\\nlight\\nIf the VSP OFF indicator illuminates while\\nthe VSP system is ON, it will may indicatethe VSP is not functioning properly. Have\\nthe VSP system checked. It is recom-\\nmended that you visit a NISSAN certifiedARIYA dealer.\\nSee “Approaching Vehicle Sound for Pe-\\ndestrians (VSP) system” (P.EV-20).\\nAutomaticEmergency Braking\\n(AEB) system OFF warning light\\nWhen the power switch is in the ON\\nposition, the Automatic Emergency Brak-ing (AEB) system OFF warning light illu-\\nminates. After starting the EV system, the\\nwarning light turns off.\\nThis light illuminates when the Automatic\\nEmergency Braking (AEB) with Pedestrian\\nDetection system is set to OFF on the\\nvehicle information display.' metadata={'source': '/mnt/data/Local-RAG-Customised/nissan/2023-nissan-ariya-owner-manual.pdf', 'page': 169}\n"
     ]
    }
   ],
   "source": [
    "# Pick a sample page\n",
    "print(data[random.randint(0, len(data))])"
   ]
  },
  {
   "cell_type": "code",
   "execution_count": 5,
   "id": "0e394e90",
   "metadata": {
    "tags": []
   },
   "outputs": [
    {
     "name": "stdout",
     "output_type": "stream",
     "text": [
      "1975 1975\n"
     ]
    }
   ],
   "source": [
    "# Split the data into pages\n",
    "metadatas = []\n",
    "texts = []\n",
    "for row in data:\n",
    "  metadatas.append(row.metadata)\n",
    "  texts.append(row.page_content)\n",
    "print(len(metadatas),len(texts))"
   ]
  },
  {
   "cell_type": "code",
   "execution_count": 6,
   "id": "baeccba2",
   "metadata": {
    "tags": []
   },
   "outputs": [],
   "source": [
    "# Setup the prompt template to use for the QA bot\n",
    "prompt_template = \"\"\"Use the following pieces of context to answer the question enclosed within  3 backticks at the end. If you don't know the answer, just say that you don't know, don't try to make up an answer.\n",
    "Please provide an answer which is factually correct and based on the information retrieved from the vector store.\n",
    "Please also mention any quotes supporting the answer if any present in the context supplied within two double quotes \"\" .\n",
    "\n",
    "{context}\n",
    "\n",
    "QUESTION:```{question}```\n",
    "ANSWER:\n",
    "\"\"\"\n",
    "PROMPT = PromptTemplate(template=prompt_template, input_variables=[\"context\",\"question\"])\n",
    "#\n"
   ]
  },
  {
   "cell_type": "code",
   "execution_count": 7,
   "id": "e3fccfe9",
   "metadata": {
    "tags": []
   },
   "outputs": [
    {
     "name": "stderr",
     "output_type": "stream",
     "text": [
      ".gitattributes: 100%|██████████| 1.52k/1.52k [00:00<00:00, 213kB/s]\n",
      "1_Pooling/config.json: 100%|██████████| 190/190 [00:00<00:00, 29.6kB/s]\n",
      "README.md: 100%|██████████| 90.8k/90.8k [00:00<00:00, 1.35MB/s]\n",
      "config.json: 100%|██████████| 684/684 [00:00<00:00, 395kB/s]\n",
      "config_sentence_transformers.json: 100%|██████████| 124/124 [00:00<00:00, 71.8kB/s]\n",
      "model.safetensors: 100%|██████████| 133M/133M [00:00<00:00, 283MB/s] \n",
      "pytorch_model.bin: 100%|██████████| 134M/134M [00:00<00:00, 393MB/s] \n",
      "sentence_bert_config.json: 100%|██████████| 52.0/52.0 [00:00<00:00, 7.82kB/s]\n",
      "special_tokens_map.json: 100%|██████████| 125/125 [00:00<00:00, 71.3kB/s]\n",
      "tokenizer.json: 100%|██████████| 711k/711k [00:00<00:00, 2.67MB/s]\n",
      "tokenizer_config.json: 100%|██████████| 366/366 [00:00<00:00, 197kB/s]\n",
      "vocab.txt: 100%|██████████| 232k/232k [00:00<00:00, 59.8MB/s]\n",
      "modules.json: 100%|██████████| 349/349 [00:00<00:00, 199kB/s]\n"
     ]
    }
   ],
   "source": [
    "# Load the embedding model\n",
    "model_kwargs = {'device': 'cpu'}\n",
    "encode_kwargs = {'normalize_embeddings': True}\n",
    "embedding_model_name = \"BAAI/bge-small-en\"\n",
    "os.environ['SENTENCE_TRANSFORMERS_HOME'] = '/mnt/artifacts/model_cache/'\n",
    "embeddings = HuggingFaceBgeEmbeddings(model_name=\"BAAI/bge-small-en\",\n",
    "                                      model_kwargs=model_kwargs,\n",
    "                                      encode_kwargs=encode_kwargs\n",
    "                                     )"
   ]
  },
  {
   "cell_type": "code",
   "execution_count": 17,
   "id": "7594dd8b",
   "metadata": {
    "tags": []
   },
   "outputs": [],
   "source": [
    "# Uncomment this code if you want to store the embeddings in Qdrant in-memory\n",
    "doc_store = Qdrant.from_texts(texts,\n",
    "                              metadatas=metadatas,\n",
    "                              embedding=embeddings,\n",
    "                              location=\":memory:\",\n",
    "                              collection=f\"{embedding_model_name}_press_release\")"
   ]
  },
  {
   "cell_type": "code",
   "execution_count": 8,
   "id": "85e98645",
   "metadata": {},
   "outputs": [],
   "source": [
    " # Persist the embeddings to disk\n",
    "doc_store = Qdrant.from_texts(texts,\n",
    "                              metadatas=metadatas,\n",
    "                              embedding=embeddings,\n",
    "#                              path=\"/mnt/data/\" + os.environ['DOMINO_PROJECT_NAME'] + \"/\" + os.environ['CUSTOMER_NAME'] + \"/local_qdrant/\",\n",
    "                              path=\"/mnt/artifacts/local_qdrant/\",\n",
    "                              prefer_grpc=True,\n",
    "                              collection_name=os.environ['CUSTOMER_NAME'])"
   ]
  },
  {
   "cell_type": "code",
   "execution_count": 11,
   "id": "9fe4aeb3",
   "metadata": {},
   "outputs": [
    {
     "ename": "RuntimeError",
     "evalue": "Storage folder /mnt/artifacts/local_qdrant/ is already accessed by another instance of Qdrant client. If you require concurrent access, use Qdrant server instead.",
     "output_type": "error",
     "traceback": [
      "\u001b[0;31m---------------------------------------------------------------------------\u001b[0m",
      "\u001b[0;31mBlockingIOError\u001b[0m                           Traceback (most recent call last)",
      "File \u001b[0;32m/usr/local/lib/python3.8/dist-packages/portalocker/portalocker.py:107\u001b[0m, in \u001b[0;36mlock\u001b[0;34m(file_, flags)\u001b[0m\n\u001b[1;32m    106\u001b[0m \u001b[38;5;28;01mtry\u001b[39;00m:\n\u001b[0;32m--> 107\u001b[0m     \u001b[43mfcntl\u001b[49m\u001b[38;5;241;43m.\u001b[39;49m\u001b[43mflock\u001b[49m\u001b[43m(\u001b[49m\u001b[43mfile_\u001b[49m\u001b[43m,\u001b[49m\u001b[43m \u001b[49m\u001b[43mflags\u001b[49m\u001b[43m)\u001b[49m\n\u001b[1;32m    108\u001b[0m \u001b[38;5;28;01mexcept\u001b[39;00m locking_exceptions \u001b[38;5;28;01mas\u001b[39;00m exc_value:\n\u001b[1;32m    109\u001b[0m     \u001b[38;5;66;03m# The exception code varies on different systems so we'll catch\u001b[39;00m\n\u001b[1;32m    110\u001b[0m     \u001b[38;5;66;03m# every IO error\u001b[39;00m\n",
      "\u001b[0;31mBlockingIOError\u001b[0m: [Errno 11] Resource temporarily unavailable",
      "\nThe above exception was the direct cause of the following exception:\n",
      "\u001b[0;31mLockException\u001b[0m                             Traceback (most recent call last)",
      "File \u001b[0;32m/usr/local/lib/python3.8/dist-packages/qdrant_client/local/qdrant_local.py:111\u001b[0m, in \u001b[0;36mQdrantLocal._load\u001b[0;34m(self)\u001b[0m\n\u001b[1;32m    110\u001b[0m \u001b[38;5;28;01mtry\u001b[39;00m:\n\u001b[0;32m--> 111\u001b[0m     \u001b[43mportalocker\u001b[49m\u001b[38;5;241;43m.\u001b[39;49m\u001b[43mlock\u001b[49m\u001b[43m(\u001b[49m\n\u001b[1;32m    112\u001b[0m \u001b[43m        \u001b[49m\u001b[38;5;28;43mself\u001b[39;49m\u001b[38;5;241;43m.\u001b[39;49m\u001b[43m_flock_file\u001b[49m\u001b[43m,\u001b[49m\n\u001b[1;32m    113\u001b[0m \u001b[43m        \u001b[49m\u001b[43mportalocker\u001b[49m\u001b[38;5;241;43m.\u001b[39;49m\u001b[43mLockFlags\u001b[49m\u001b[38;5;241;43m.\u001b[39;49m\u001b[43mEXCLUSIVE\u001b[49m\u001b[43m \u001b[49m\u001b[38;5;241;43m|\u001b[39;49m\u001b[43m \u001b[49m\u001b[43mportalocker\u001b[49m\u001b[38;5;241;43m.\u001b[39;49m\u001b[43mLockFlags\u001b[49m\u001b[38;5;241;43m.\u001b[39;49m\u001b[43mNON_BLOCKING\u001b[49m\u001b[43m,\u001b[49m\n\u001b[1;32m    114\u001b[0m \u001b[43m    \u001b[49m\u001b[43m)\u001b[49m\n\u001b[1;32m    115\u001b[0m \u001b[38;5;28;01mexcept\u001b[39;00m portalocker\u001b[38;5;241m.\u001b[39mexceptions\u001b[38;5;241m.\u001b[39mLockException:\n",
      "File \u001b[0;32m/usr/local/lib/python3.8/dist-packages/portalocker/portalocker.py:111\u001b[0m, in \u001b[0;36mlock\u001b[0;34m(file_, flags)\u001b[0m\n\u001b[1;32m    108\u001b[0m \u001b[38;5;28;01mexcept\u001b[39;00m locking_exceptions \u001b[38;5;28;01mas\u001b[39;00m exc_value:\n\u001b[1;32m    109\u001b[0m     \u001b[38;5;66;03m# The exception code varies on different systems so we'll catch\u001b[39;00m\n\u001b[1;32m    110\u001b[0m     \u001b[38;5;66;03m# every IO error\u001b[39;00m\n\u001b[0;32m--> 111\u001b[0m     \u001b[38;5;28;01mraise\u001b[39;00m exceptions\u001b[38;5;241m.\u001b[39mLockException(exc_value, fh\u001b[38;5;241m=\u001b[39mfile_) \u001b[38;5;28;01mfrom\u001b[39;00m \u001b[38;5;21;01mexc_value\u001b[39;00m\n",
      "\u001b[0;31mLockException\u001b[0m: [Errno 11] Resource temporarily unavailable",
      "\nDuring handling of the above exception, another exception occurred:\n",
      "\u001b[0;31mRuntimeError\u001b[0m                              Traceback (most recent call last)",
      "Cell \u001b[0;32mIn[11], line 5\u001b[0m\n\u001b[1;32m      1\u001b[0m \u001b[38;5;66;03m# read existing one from disk\u001b[39;00m\n\u001b[1;32m      2\u001b[0m \u001b[38;5;66;03m# Dataset\u001b[39;00m\n\u001b[1;32m      3\u001b[0m \u001b[38;5;66;03m#qdrant = QdrantClient(path=\"/mnt/data/\" + os.environ['DOMINO_PROJECT_NAME'] + \"/nissan/local_qdrant/\")\u001b[39;00m\n\u001b[1;32m      4\u001b[0m \u001b[38;5;66;03m# Artifacts\u001b[39;00m\n\u001b[0;32m----> 5\u001b[0m qdrant \u001b[38;5;241m=\u001b[39m \u001b[43mQdrantClient\u001b[49m\u001b[43m(\u001b[49m\u001b[43mpath\u001b[49m\u001b[38;5;241;43m=\u001b[39;49m\u001b[38;5;124;43m\"\u001b[39;49m\u001b[38;5;124;43m/mnt/artifacts/local_qdrant/\u001b[39;49m\u001b[38;5;124;43m\"\u001b[39;49m\u001b[43m)\u001b[49m\n\u001b[1;32m      6\u001b[0m \u001b[38;5;28mprint\u001b[39m(qdrant\u001b[38;5;241m.\u001b[39mget_collections())\n\u001b[1;32m      7\u001b[0m \u001b[38;5;66;03m#doc_store = Qdrant(\u001b[39;00m\n\u001b[1;32m      8\u001b[0m \u001b[38;5;66;03m#    client=qdrant,\u001b[39;00m\n\u001b[1;32m      9\u001b[0m \u001b[38;5;66;03m#    collection_name=os.environ['CUSTOMER_NAME'],\u001b[39;00m\n\u001b[1;32m     10\u001b[0m \u001b[38;5;66;03m#    embeddings=embeddings\u001b[39;00m\n\u001b[1;32m     11\u001b[0m \u001b[38;5;66;03m#)\u001b[39;00m\n",
      "File \u001b[0;32m/usr/local/lib/python3.8/dist-packages/qdrant_client/qdrant_client.py:101\u001b[0m, in \u001b[0;36mQdrantClient.__init__\u001b[0;34m(self, location, url, port, grpc_port, prefer_grpc, https, api_key, prefix, timeout, host, path, force_disable_check_same_thread, grpc_options, **kwargs)\u001b[0m\n\u001b[1;32m     96\u001b[0m     \u001b[38;5;28mself\u001b[39m\u001b[38;5;241m.\u001b[39m_client \u001b[38;5;241m=\u001b[39m QdrantLocal(\n\u001b[1;32m     97\u001b[0m         location\u001b[38;5;241m=\u001b[39mlocation,\n\u001b[1;32m     98\u001b[0m         force_disable_check_same_thread\u001b[38;5;241m=\u001b[39mforce_disable_check_same_thread,\n\u001b[1;32m     99\u001b[0m     )\n\u001b[1;32m    100\u001b[0m \u001b[38;5;28;01melif\u001b[39;00m path \u001b[38;5;129;01mis\u001b[39;00m \u001b[38;5;129;01mnot\u001b[39;00m \u001b[38;5;28;01mNone\u001b[39;00m:\n\u001b[0;32m--> 101\u001b[0m     \u001b[38;5;28mself\u001b[39m\u001b[38;5;241m.\u001b[39m_client \u001b[38;5;241m=\u001b[39m \u001b[43mQdrantLocal\u001b[49m\u001b[43m(\u001b[49m\n\u001b[1;32m    102\u001b[0m \u001b[43m        \u001b[49m\u001b[43mlocation\u001b[49m\u001b[38;5;241;43m=\u001b[39;49m\u001b[43mpath\u001b[49m\u001b[43m,\u001b[49m\n\u001b[1;32m    103\u001b[0m \u001b[43m        \u001b[49m\u001b[43mforce_disable_check_same_thread\u001b[49m\u001b[38;5;241;43m=\u001b[39;49m\u001b[43mforce_disable_check_same_thread\u001b[49m\u001b[43m,\u001b[49m\n\u001b[1;32m    104\u001b[0m \u001b[43m    \u001b[49m\u001b[43m)\u001b[49m\n\u001b[1;32m    105\u001b[0m \u001b[38;5;28;01melse\u001b[39;00m:\n\u001b[1;32m    106\u001b[0m     \u001b[38;5;28;01mif\u001b[39;00m location \u001b[38;5;129;01mis\u001b[39;00m \u001b[38;5;129;01mnot\u001b[39;00m \u001b[38;5;28;01mNone\u001b[39;00m \u001b[38;5;129;01mand\u001b[39;00m url \u001b[38;5;129;01mis\u001b[39;00m \u001b[38;5;28;01mNone\u001b[39;00m:\n",
      "File \u001b[0;32m/usr/local/lib/python3.8/dist-packages/qdrant_client/local/qdrant_local.py:60\u001b[0m, in \u001b[0;36mQdrantLocal.__init__\u001b[0;34m(self, location, force_disable_check_same_thread)\u001b[0m\n\u001b[1;32m     58\u001b[0m \u001b[38;5;28mself\u001b[39m\u001b[38;5;241m.\u001b[39maliases: Dict[\u001b[38;5;28mstr\u001b[39m, \u001b[38;5;28mstr\u001b[39m] \u001b[38;5;241m=\u001b[39m {}\n\u001b[1;32m     59\u001b[0m \u001b[38;5;28mself\u001b[39m\u001b[38;5;241m.\u001b[39m_flock_file: Optional[TextIOWrapper] \u001b[38;5;241m=\u001b[39m \u001b[38;5;28;01mNone\u001b[39;00m\n\u001b[0;32m---> 60\u001b[0m \u001b[38;5;28;43mself\u001b[39;49m\u001b[38;5;241;43m.\u001b[39;49m\u001b[43m_load\u001b[49m\u001b[43m(\u001b[49m\u001b[43m)\u001b[49m\n\u001b[1;32m     61\u001b[0m \u001b[38;5;28mself\u001b[39m\u001b[38;5;241m.\u001b[39m_closed: \u001b[38;5;28mbool\u001b[39m \u001b[38;5;241m=\u001b[39m \u001b[38;5;28;01mFalse\u001b[39;00m\n",
      "File \u001b[0;32m/usr/local/lib/python3.8/dist-packages/qdrant_client/local/qdrant_local.py:116\u001b[0m, in \u001b[0;36mQdrantLocal._load\u001b[0;34m(self)\u001b[0m\n\u001b[1;32m    111\u001b[0m     portalocker\u001b[38;5;241m.\u001b[39mlock(\n\u001b[1;32m    112\u001b[0m         \u001b[38;5;28mself\u001b[39m\u001b[38;5;241m.\u001b[39m_flock_file,\n\u001b[1;32m    113\u001b[0m         portalocker\u001b[38;5;241m.\u001b[39mLockFlags\u001b[38;5;241m.\u001b[39mEXCLUSIVE \u001b[38;5;241m|\u001b[39m portalocker\u001b[38;5;241m.\u001b[39mLockFlags\u001b[38;5;241m.\u001b[39mNON_BLOCKING,\n\u001b[1;32m    114\u001b[0m     )\n\u001b[1;32m    115\u001b[0m \u001b[38;5;28;01mexcept\u001b[39;00m portalocker\u001b[38;5;241m.\u001b[39mexceptions\u001b[38;5;241m.\u001b[39mLockException:\n\u001b[0;32m--> 116\u001b[0m     \u001b[38;5;28;01mraise\u001b[39;00m \u001b[38;5;167;01mRuntimeError\u001b[39;00m(\n\u001b[1;32m    117\u001b[0m         \u001b[38;5;124mf\u001b[39m\u001b[38;5;124m\"\u001b[39m\u001b[38;5;124mStorage folder \u001b[39m\u001b[38;5;132;01m{\u001b[39;00m\u001b[38;5;28mself\u001b[39m\u001b[38;5;241m.\u001b[39mlocation\u001b[38;5;132;01m}\u001b[39;00m\u001b[38;5;124m is already accessed by another instance of Qdrant client.\u001b[39m\u001b[38;5;124m\"\u001b[39m\n\u001b[1;32m    118\u001b[0m         \u001b[38;5;124mf\u001b[39m\u001b[38;5;124m\"\u001b[39m\u001b[38;5;124m If you require concurrent access, use Qdrant server instead.\u001b[39m\u001b[38;5;124m\"\u001b[39m\n\u001b[1;32m    119\u001b[0m     )\n",
      "\u001b[0;31mRuntimeError\u001b[0m: Storage folder /mnt/artifacts/local_qdrant/ is already accessed by another instance of Qdrant client. If you require concurrent access, use Qdrant server instead."
     ]
    }
   ],
   "source": [
    " # read existing one from disk\n",
    "# Dataset\n",
    "#qdrant = QdrantClient(path=\"/mnt/data/\" + os.environ['DOMINO_PROJECT_NAME'] + \"/nissan/local_qdrant/\")\n",
    "# Artifacts\n",
    "qdrant = QdrantClient(path=\"/mnt/artifacts/local_qdrant/\")\n",
    "print(qdrant.get_collections())\n",
    "#doc_store = Qdrant(\n",
    "#    client=qdrant,\n",
    "#    collection_name=os.environ['CUSTOMER_NAME'],\n",
    "#    embeddings=embeddings\n",
    "#)"
   ]
  },
  {
   "cell_type": "code",
   "execution_count": 12,
   "id": "73db31ee",
   "metadata": {
    "tags": []
   },
   "outputs": [
    {
     "name": "stderr",
     "output_type": "stream",
     "text": [
      "Loading checkpoint shards: 100%|██████████| 2/2 [00:05<00:00,  2.58s/it]\n",
      "/usr/local/lib/python3.8/dist-packages/transformers/generation/configuration_utils.py:392: UserWarning: `do_sample` is set to `False`. However, `temperature` is set to `0.9` -- this flag is only used in sample-based generation modes. You should set `do_sample=True` or unset `temperature`. This was detected when initializing the generation config instance, which means the corresponding file may hold incorrect parameterization and should be fixed.\n",
      "  warnings.warn(\n",
      "/usr/local/lib/python3.8/dist-packages/transformers/generation/configuration_utils.py:397: UserWarning: `do_sample` is set to `False`. However, `top_p` is set to `0.6` -- this flag is only used in sample-based generation modes. You should set `do_sample=True` or unset `top_p`. This was detected when initializing the generation config instance, which means the corresponding file may hold incorrect parameterization and should be fixed.\n",
      "  warnings.warn(\n"
     ]
    }
   ],
   "source": [
    "# Load the model and the tokenizer\n",
    "chain_type_kwargs = {\"prompt\": PROMPT}\n",
    "\n",
    "\n",
    "################################################################################\n",
    "# bitsandbytes parameters\n",
    "################################################################################\n",
    "\n",
    "# Activate 4-bit precision base model loading\n",
    "use_4bit = True\n",
    "\n",
    "# Compute dtype for 4-bit base models\n",
    "bnb_4bit_compute_dtype = \"float16\"\n",
    "\n",
    "# Quantization type (fp4 or nf4)\n",
    "bnb_4bit_quant_type = \"nf4\"\n",
    "\n",
    "# Activate nested quantization for 4-bit base models (double quantization)\n",
    "use_nested_quant = False\n",
    "\n",
    "# Load tokenizer and model with QLoRA configuration\n",
    "compute_dtype = getattr(torch, bnb_4bit_compute_dtype)\n",
    "\n",
    "bnb_config = BitsAndBytesConfig(\n",
    "    load_in_4bit=use_4bit,\n",
    "    bnb_4bit_quant_type=bnb_4bit_quant_type,\n",
    "    bnb_4bit_compute_dtype=compute_dtype,\n",
    "    bnb_4bit_use_double_quant=use_nested_quant,\n",
    ")\n",
    "\n",
    "model_id = \"NousResearch/Llama-2-7b-chat-hf\"\n",
    "\n",
    "model = AutoModelForCausalLM.from_pretrained(\n",
    "    model_id,\n",
    "    cache_dir=\"/mnt/artifacts/model_cache/\",\n",
    "    quantization_config=bnb_config,\n",
    "    device_map='auto'\n",
    ")\n",
    "\n",
    "# Load LLaMA tokenizer\n",
    "tokenizer = AutoTokenizer.from_pretrained(model_id, trust_remote_code=True)\n",
    "tokenizer.add_special_tokens({'pad_token': '[PAD]'})\n",
    "tokenizer.pad_token = tokenizer.eos_token\n",
    "tokenizer.padding_side = \"right\"\n",
    "tokenizer.pad_token_id = model.config.eos_token_id"
   ]
  },
  {
   "cell_type": "code",
   "execution_count": null,
   "id": "b571c776",
   "metadata": {},
   "outputs": [],
   "source": []
  },
  {
   "cell_type": "code",
   "execution_count": 13,
   "id": "f50a3892",
   "metadata": {},
   "outputs": [
    {
     "ename": "NameError",
     "evalue": "name 'doc_store' is not defined",
     "output_type": "error",
     "traceback": [
      "\u001b[0;31m---------------------------------------------------------------------------\u001b[0m",
      "\u001b[0;31mNameError\u001b[0m                                 Traceback (most recent call last)",
      "Cell \u001b[0;32mIn[13], line 8\u001b[0m\n\u001b[1;32m      2\u001b[0m pipe \u001b[38;5;241m=\u001b[39m pipeline(\u001b[38;5;124m\"\u001b[39m\u001b[38;5;124mtext-generation\u001b[39m\u001b[38;5;124m\"\u001b[39m, model\u001b[38;5;241m=\u001b[39mmodel, tokenizer\u001b[38;5;241m=\u001b[39mtokenizer, max_new_tokens\u001b[38;5;241m=\u001b[39m\u001b[38;5;241m200\u001b[39m)\n\u001b[1;32m      3\u001b[0m rag_llm \u001b[38;5;241m=\u001b[39m HuggingFacePipeline(pipeline\u001b[38;5;241m=\u001b[39mpipe)\n\u001b[1;32m      5\u001b[0m qa_chain \u001b[38;5;241m=\u001b[39m RetrievalQA\u001b[38;5;241m.\u001b[39mfrom_chain_type(llm\u001b[38;5;241m=\u001b[39mrag_llm,\n\u001b[1;32m      6\u001b[0m                                        chain_type\u001b[38;5;241m=\u001b[39m\u001b[38;5;124m\"\u001b[39m\u001b[38;5;124mstuff\u001b[39m\u001b[38;5;124m\"\u001b[39m,\n\u001b[1;32m      7\u001b[0m                                        chain_type_kwargs\u001b[38;5;241m=\u001b[39m{\u001b[38;5;124m\"\u001b[39m\u001b[38;5;124mprompt\u001b[39m\u001b[38;5;124m\"\u001b[39m: PROMPT},\n\u001b[0;32m----> 8\u001b[0m                                        retriever\u001b[38;5;241m=\u001b[39m\u001b[43mdoc_store\u001b[49m\u001b[38;5;241m.\u001b[39mas_retriever(search_kwargs\u001b[38;5;241m=\u001b[39m{\u001b[38;5;124m\"\u001b[39m\u001b[38;5;124mk\u001b[39m\u001b[38;5;124m\"\u001b[39m: \u001b[38;5;241m5\u001b[39m}),\n\u001b[1;32m      9\u001b[0m                                        return_source_documents\u001b[38;5;241m=\u001b[39m\u001b[38;5;28;01mTrue\u001b[39;00m\n\u001b[1;32m     10\u001b[0m                                       )\n",
      "\u001b[0;31mNameError\u001b[0m: name 'doc_store' is not defined"
     ]
    }
   ],
   "source": [
    "# Setup the QA chain\n",
    "pipe = pipeline(\"text-generation\", model=model, tokenizer=tokenizer, max_new_tokens=200)\n",
    "rag_llm = HuggingFacePipeline(pipeline=pipe)\n",
    "    \n",
    "qa_chain = RetrievalQA.from_chain_type(llm=rag_llm,\n",
    "                                       chain_type=\"stuff\",\n",
    "                                       chain_type_kwargs={\"prompt\": PROMPT},\n",
    "                                       retriever=doc_store.as_retriever(search_kwargs={\"k\": 5}),\n",
    "                                       return_source_documents=True\n",
    "                                      )"
   ]
  },
  {
   "cell_type": "code",
   "execution_count": 12,
   "id": "38dc0917",
   "metadata": {},
   "outputs": [
    {
     "name": "stdin",
     "output_type": "stream",
     "text": [
      "Please provide your question here : how do I change the key fob battery\n"
     ]
    },
    {
     "name": "stdout",
     "output_type": "stream",
     "text": [
      "{'query': 'how do I change the key fob battery', 'result': 'The process for replacing the Intelligent Key battery in a Nissan Ariya is outlined in the service manual. To change the battery, follow these steps:\\n\\n1. Remove the mechanical key from the Intelligent Key.\\n2. Insert a small screwdriver into the slit (on the right and left sides) and twist it to separate the upper part from the lower part of the Intelligent Key.\\n3. Remove the old battery and replace it with a new CR2032 battery. Make sure the + side of the new battery faces the bottom of the case.\\n4. Align the tips of the upper and lower parts and push them together until it is securely closed.\\n5. Operate the buttons to check its operation.\\n\\nIt is recommended to visit a Nissan certified dealer for this service, as they have the proper training and equipment to perform the replacement correctly.\\n\\nNote: The', 'source_documents': [Document(page_content='Replace the battery in the Intelligent Key\\nas follows:\\n1. Remove the mechanical key from the\\nIntelligent Key.\\n2. Insert a small screwdriver into the slit\\n(on the right and left sides) and twist it\\nto separate the upper part from the\\nDo-it-yourself 8-13INTELLIGENT KEY BATTERY REPLACEMENT', metadata={'source': '/mnt/data/Local-RAG-Customised/nissan/2023-nissan-ariya-owner-manual.pdf', 'page': 560}), Document(page_content='.When the vehicle is parked near a\\nparking meter.\\nIn such cases, correct the operating\\nconditions before using the Intelligent\\nKey function or use the mechanical key.\\nAlthough the life of the battery varies\\ndepending on the operating conditions,\\nthe battery’s life is approximately 2 years.\\nIf the battery is discharged, replace it with\\na new one.\\nWhen the Intelligent Key battery is low, an\\nindicator illuminates in the vehicle infor-\\nmation display. (See “4. Key Battery Lowwarning” (P.2-34).)\\nSince the Intelligent Key is continuously\\nreceiving radio waves, if the key is leftnear equipment which transmits strongradio waves, such as signals from a TV\\nand personal computer, the battery life\\nmay become shorter.\\nFor information regarding replacement of\\na battery, see “Intelligent Key battery\\nreplacement” (P.8-13).\\nAs many as 4 Intelligent Keys can be\\nregistered and used with one vehicle. For\\ninformation about the purchase and use\\nof additional Intelligent Keys, it is recom-', metadata={'source': '/mnt/data/Local-RAG-Customised/nissan/2023-nissan-ariya-owner-manual.pdf', 'page': 264}), Document(page_content='8-14 Do-it-yourselflower part. Use a cloth to protect the\\ncasing.\\n3. Replace the battery with a new one.\\nRecommended battery:\\nCR2032 or equivalent\\n.Do not touch the internal circuit\\nand electric terminals as doing so\\ncould cause a malfunction.\\n.Hold the battery by the edges.\\nHolding the battery across thecontactpointswillseriouslydeplete\\nthe storage capacity.\\n.Make sure that the +side faces the\\nbottom of the case.\\n WBI0015X\\n4. Align the tips of the upper and lower\\nparts, and then push them together\\nuntil it is securely closed.\\n5. Operate the buttons to check its\\noperation.\\nIf you need any assistance for replace-\\nment, it is recommended you visit a\\nNISSAN certified ARIYA dealer for this\\nservice.\\nFCC Notice:For USA:\\nFCC ID : KR5TXPZ1\\nFCC ID : KR5HFM401FCC ID : KR5HFM403\\nThis device complies with Part 15 of theFCC Rules. Operation is subject to the\\nfollowing two conditions: (1) This device\\nmay not cause harmful interference,and (2) this device must accept any', metadata={'source': '/mnt/data/Local-RAG-Customised/nissan/2023-nissan-ariya-owner-manual.pdf', 'page': 561}), Document(page_content='CH-10 Chargingvehicle.\\nTo start normal charge:\\n1. Push the P (Park) position switch to\\nplace the vehicle in the P (Park) posi-\\ntion and apply the parking brake.\\n2. When charging the Li-ion battery,\\nplace the power switch in the OFF\\nposition.\\n3. Open the charge port lid and charge\\nport cap. For additional information,\\nsee “Charge port lid” (P.3-27) and\\n“Charge port cap” (P.3-27).\\nWBT0114X\\n4. Connect the charge connector to the\\ncharge port. If it is connected nor-\\nmally, a beep will sound once.\\n5. If charging has started, a beep will\\nsound twice and the charging statusindicator light will operate. For addi-tional information, see “Charging sta-\\ntus indicator light” (P.CH-38).\\nWBT0115X\\nTo stop normal charge:\\n1. Ensurethatthechargeconnectorlock\\nis not engaged. For additional infor-\\nmation, see “Charge connector lock”\\n(P.CH-33).\\n2. Press the button on the charge con-\\nnector, release the lock and remove\\nthecharge connectorfromthe charge\\nport and properly store it.\\nNOTE:', metadata={'source': '/mnt/data/Local-RAG-Customised/nissan/2023-nissan-ariya-owner-manual.pdf', 'page': 49}), Document(page_content='5-16 Starting and driving\\nWBF0089X\\nINTELLIGENT KEY BATTERY DIS-\\nCHARGE\\nIf the battery of the Intelligent Key is\\ndischarged, or environmental conditions\\ninterfere with the Intelligent Key opera-\\ntion, start the EV (Electric Vehicle) systemin the READY to drive mode according tothe following procedure:\\n1. Push the park button to shift to the P\\n(Park) position.\\n2. Firmly apply the foot brake.3. Push the power switch.\\n4. Touch the power switch with the\\nIntelligent Key as illustrated. (A chime\\nwill sound.)5. Push the power switch while depres-\\nsing the brake pedal within 10 sec-\\nonds after the chime sounds. Thepower switch position changes to\\nREADY to drive.\\nAfterstep3isperformed,whenthepower\\nswitch is pushed without depressing the\\nbrake pedal, the power switch position\\nwill change to ON.\\nNOTE:\\n.When the power switch is pushed to\\nthe ON position or READY to drive\\nposition by the above procedures,\\nthe “Key Battery Low” warning may\\nappear (on the vehicle information', metadata={'source': '/mnt/data/Local-RAG-Customised/nissan/2023-nissan-ariya-owner-manual.pdf', 'page': 355})]}\n"
     ]
    }
   ],
   "source": [
    "# Ask a question\n",
    "user_question = input(\"Please provide your question here :\")\n",
    "result = qa_chain(user_question)\n",
    "print(result['result'])"
   ]
  },
  {
   "cell_type": "code",
   "execution_count": null,
   "id": "63f17ded",
   "metadata": {},
   "outputs": [],
   "source": []
  }
 ],
 "metadata": {
  "dca-init": "true",
  "kernelspec": {
   "display_name": "Python 3 (ipykernel)",
   "language": "python",
   "name": "python3"
  },
  "language_info": {
   "codemirror_mode": {
    "name": "ipython",
    "version": 3
   },
   "file_extension": ".py",
   "mimetype": "text/x-python",
   "name": "python",
   "nbconvert_exporter": "python",
   "pygments_lexer": "ipython3",
   "version": "3.8.10"
  }
 },
 "nbformat": 4,
 "nbformat_minor": 5
}
