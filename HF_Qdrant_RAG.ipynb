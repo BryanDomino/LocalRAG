{
 "cells": [
  {
   "cell_type": "code",
   "execution_count": 1,
   "id": "858b6973",
   "metadata": {},
   "outputs": [
    {
     "name": "stderr",
     "output_type": "stream",
     "text": [
      "/usr/local/lib/python3.8/dist-packages/tqdm/auto.py:22: TqdmWarning: IProgress not found. Please update jupyter and ipywidgets. See https://ipywidgets.readthedocs.io/en/stable/user_install.html\n",
      "  from .autonotebook import tqdm as notebook_tqdm\n"
     ]
    }
   ],
   "source": [
    "# Import all the dependencies\n",
    "from qdrant_client import models, QdrantClient\n",
    "from langchain.embeddings import HuggingFaceBgeEmbeddings\n",
    "from langchain.llms.huggingface_pipeline import HuggingFacePipeline\n",
    "from langchain.document_loaders import PyPDFLoader, PyPDFDirectoryLoader\n",
    "from langchain.vectorstores.qdrant import Qdrant\n",
    "from langchain.text_splitter import RecursiveCharacterTextSplitter\n",
    "from langchain.chains import RetrievalQA\n",
    "from langchain import PromptTemplate\n",
    "from peft import PeftModel, PeftConfig\n",
    "#\n",
    "from tqdm.auto import tqdm\n",
    "from uuid import uuid4\n",
    "from transformers import AutoTokenizer, AutoModelForCausalLM, BitsAndBytesConfig, pipeline\n",
    "from sentence_transformers import SentenceTransformer, util\n",
    "import pandas as pd\n",
    "\n",
    "#\n",
    "import os\n",
    "import random\n",
    "import torch\n",
    "import warnings\n",
    "#warnings.filterwarnings('ignore')"
   ]
  },
  {
   "cell_type": "code",
   "execution_count": 2,
   "id": "47dc67bc",
   "metadata": {
    "tags": []
   },
   "outputs": [],
   "source": [
    "# Load the document that you need to parse, please change the location to where the pdf resides\n",
    "\n",
    "# Load 1 PDF file\n",
    "# loader = PyPDFLoader(\"/mnt/data/smuckers_poc/RAG/2024-First-Quarter-Results.pdf\")\n",
    "# or load an entire folder\n",
    "loader = PyPDFDirectoryLoader(\"/mnt/data/\" + os.environ['DOMINO_PROJECT_NAME'] + \"/\" + os.environ['CUSTOMER_NAME'])\n",
    "data = loader.load_and_split(RecursiveCharacterTextSplitter(chunk_size=1000, chunk_overlap=0))"
   ]
  },
  {
   "cell_type": "code",
   "execution_count": 3,
   "id": "c46f7870",
   "metadata": {
    "tags": []
   },
   "outputs": [
    {
     "name": "stdout",
     "output_type": "stream",
     "text": [
      "There are 1975 chunks in the documents\n"
     ]
    }
   ],
   "source": [
    "print(f\"There are {len(data)} chunks in the documents\")"
   ]
  },
  {
   "cell_type": "code",
   "execution_count": 4,
   "id": "d09a4ff9",
   "metadata": {
    "tags": []
   },
   "outputs": [
    {
     "name": "stdout",
     "output_type": "stream",
     "text": [
      "page_content='4-30 Monitor, heater, air conditioner, audio and phone systems\\nWBE0021X\\nButtons on the instrument panel\\nWBE0076X\\nClimate control screen1. Temperature control button/tempera-\\nture control key (driver’s side)\\n2.\\n (front defroster) button\\n3.\\n (rear window defroster) button\\n(See “Rear window and outside mirror\\ndefroster switch” (P.2-60).)\\n4. Fan speed control buttons/fan speed\\ncontrol keys\\n5. ON·OFF button/key\\n6. AUTO (automatic) button/“AUTO” (auto-\\nmatic) key\\n7. Air intake control button/key\\n8. Temperature control button/tempera-\\nture control key (passenger’s side)\\n9. Heatedsteeringwheelkey(ifsoequipped)\\n(See “Heated steering wheel” (P.2-70).)\\n10. Front seat control key (if so equipped)\\n(See “Climate controlled seats” (P.2-73) or\\n“Heated seats” (P.2-70).)\\n11. “DRIVER ONLY” key12. Air flow control key\\n13. “REAR” key (if so equipped)\\n(See “Heated seats” (P.2-70).)\\n14. “A/C” (air conditioner) key\\n15. “FAN ONLY” key\\n16. “SYNC” (synchronize) key' metadata={'source': '/mnt/data/Local-RAG-Customised/nissan/2023-nissan-ariya-owner-manual.pdf', 'page': 331}\n"
     ]
    }
   ],
   "source": [
    "# Pick a sample page\n",
    "print(data[random.randint(0, len(data))])"
   ]
  },
  {
   "cell_type": "code",
   "execution_count": 5,
   "id": "f1ceb69e",
   "metadata": {
    "tags": []
   },
   "outputs": [
    {
     "name": "stdout",
     "output_type": "stream",
     "text": [
      "1975 1975\n"
     ]
    }
   ],
   "source": [
    "# Split the data into pages\n",
    "metadatas = []\n",
    "texts = []\n",
    "for row in data:\n",
    "  metadatas.append(row.metadata)\n",
    "  texts.append(row.page_content)\n",
    "print(len(metadatas),len(texts))"
   ]
  },
  {
   "cell_type": "code",
   "execution_count": 6,
   "id": "6f0b8eee",
   "metadata": {
    "tags": []
   },
   "outputs": [],
   "source": [
    "# Setup the prompt template to use for the QA bot\n",
    "prompt_template = \"\"\"Use the following pieces of context to answer the question enclosed within  3 backticks at the end. If you don't know the answer, just say that you don't know, don't try to make up an answer.\n",
    "Please provide an answer which is factually correct and based on the information retrieved from the vector store.\n",
    "Please also mention any quotes supporting the answer if any present in the context supplied within two double quotes \"\" .\n",
    "\n",
    "{context}\n",
    "\n",
    "QUESTION:```{question}```\n",
    "ANSWER:\n",
    "\"\"\"\n",
    "PROMPT = PromptTemplate(template=prompt_template, input_variables=[\"context\",\"question\"])\n",
    "#\n"
   ]
  },
  {
   "cell_type": "code",
   "execution_count": 7,
   "id": "12deb334",
   "metadata": {
    "tags": []
   },
   "outputs": [],
   "source": [
    "# Load the embedding model\n",
    "model_kwargs = {'device': 'cpu'}\n",
    "encode_kwargs = {'normalize_embeddings': True}\n",
    "embedding_model_name = \"BAAI/bge-small-en\"\n",
    "os.environ['SENTENCE_TRANSFORMERS_HOME'] = '/mnt/data/' + os.environ['DOMINO_PROJECT_NAME'] + '/model_cache/'\n",
    "embeddings = HuggingFaceBgeEmbeddings(model_name=\"BAAI/bge-small-en\",\n",
    "                                      model_kwargs=model_kwargs,\n",
    "                                      encode_kwargs=encode_kwargs\n",
    "                                     )"
   ]
  },
  {
   "cell_type": "code",
   "execution_count": 17,
   "id": "b2208b35",
   "metadata": {
    "tags": []
   },
   "outputs": [],
   "source": [
    "# Uncomment this code if you want to store the embeddings in Qdrant in-memory\n",
    "doc_store = Qdrant.from_texts(texts,\n",
    "                              metadatas=metadatas,\n",
    "                              embedding=embeddings,\n",
    "                              location=\":memory:\",\n",
    "                              collection=f\"{embedding_model_name}_press_release\")"
   ]
  },
  {
   "cell_type": "code",
   "execution_count": 8,
   "id": "cc11d04c",
   "metadata": {},
   "outputs": [],
   "source": [
    " # Persist the embeddings to disk\n",
    "doc_store = Qdrant.from_texts(texts,\n",
    "                              metadatas=metadatas,\n",
    "                              embedding=embeddings,\n",
    "#                              path=\"/mnt/data/\" + os.environ['DOMINO_PROJECT_NAME'] + \"/\" + os.environ['CUSTOMER_NAME'] + \"/local_qdrant/\",\n",
    "                              path=\"/mnt/artifacts/local_qdrant/\",\n",
    "                              prefer_grpc=True,\n",
    "                              collection_name=os.environ['CUSTOMER_NAME'])"
   ]
  },
  {
   "cell_type": "code",
   "execution_count": 2,
   "id": "9b4acc23",
   "metadata": {},
   "outputs": [
    {
     "name": "stdout",
     "output_type": "stream",
     "text": [
      "collections=[CollectionDescription(name='nissan')]\n"
     ]
    }
   ],
   "source": [
    " # read existing one from disk\n",
    "# Dataset\n",
    "#qdrant = QdrantClient(path=\"/mnt/data/\" + os.environ['DOMINO_PROJECT_NAME'] + \"/nissan/local_qdrant/\")\n",
    "# Artifacts\n",
    "qdrant = QdrantClient(path=\"/mnt/artifacts/local_qdrant/\")\n",
    "print(qdrant.get_collections())\n",
    "#doc_store = Qdrant(\n",
    "#    client=qdrant,\n",
    "#    collection_name=os.environ['CUSTOMER_NAME'],\n",
    "#    embeddings=embeddings\n",
    "#)"
   ]
  },
  {
   "cell_type": "code",
   "execution_count": 8,
   "id": "0af56bc5",
   "metadata": {
    "tags": []
   },
   "outputs": [
    {
     "name": "stderr",
     "output_type": "stream",
     "text": [
      "Loading checkpoint shards: 100%|██████████| 2/2 [00:05<00:00,  2.57s/it]\n",
      "/usr/local/lib/python3.8/dist-packages/transformers/generation/configuration_utils.py:381: UserWarning: `do_sample` is set to `False`. However, `temperature` is set to `0.9` -- this flag is only used in sample-based generation modes. You should set `do_sample=True` or unset `temperature`. This was detected when initializing the generation config instance, which means the corresponding file may hold incorrect parameterization and should be fixed.\n",
      "  warnings.warn(\n",
      "/usr/local/lib/python3.8/dist-packages/transformers/generation/configuration_utils.py:386: UserWarning: `do_sample` is set to `False`. However, `top_p` is set to `0.6` -- this flag is only used in sample-based generation modes. You should set `do_sample=True` or unset `top_p`. This was detected when initializing the generation config instance, which means the corresponding file may hold incorrect parameterization and should be fixed.\n",
      "  warnings.warn(\n"
     ]
    }
   ],
   "source": [
    "# Load the model and the tokenizer\n",
    "chain_type_kwargs = {\"prompt\": PROMPT}\n",
    "\n",
    "\n",
    "################################################################################\n",
    "# bitsandbytes parameters\n",
    "################################################################################\n",
    "\n",
    "# Activate 4-bit precision base model loading\n",
    "use_4bit = True\n",
    "\n",
    "# Compute dtype for 4-bit base models\n",
    "bnb_4bit_compute_dtype = \"float16\"\n",
    "\n",
    "# Quantization type (fp4 or nf4)\n",
    "bnb_4bit_quant_type = \"nf4\"\n",
    "\n",
    "# Activate nested quantization for 4-bit base models (double quantization)\n",
    "use_nested_quant = False\n",
    "\n",
    "# Load tokenizer and model with QLoRA configuration\n",
    "compute_dtype = getattr(torch, bnb_4bit_compute_dtype)\n",
    "\n",
    "bnb_config = BitsAndBytesConfig(\n",
    "    load_in_4bit=use_4bit,\n",
    "    bnb_4bit_quant_type=bnb_4bit_quant_type,\n",
    "    bnb_4bit_compute_dtype=compute_dtype,\n",
    "    bnb_4bit_use_double_quant=use_nested_quant,\n",
    ")\n",
    "\n",
    "model_id = \"NousResearch/Llama-2-7b-chat-hf\"\n",
    "\n",
    "model = AutoModelForCausalLM.from_pretrained(\n",
    "    model_id,\n",
    "    cache_dir=\"/mnt/data/\" + os.environ['DOMINO_PROJECT_NAME'] + \"/model_cache/\",\n",
    "    quantization_config=bnb_config,\n",
    "    device_map='auto'\n",
    ")\n",
    "\n",
    "# Load LLaMA tokenizer\n",
    "tokenizer = AutoTokenizer.from_pretrained(model_id, trust_remote_code=True)\n",
    "tokenizer.add_special_tokens({'pad_token': '[PAD]'})\n",
    "tokenizer.pad_token = tokenizer.eos_token\n",
    "tokenizer.padding_side = \"right\"\n",
    "tokenizer.pad_token_id = model.config.eos_token_id"
   ]
  },
  {
   "cell_type": "code",
   "execution_count": null,
   "id": "b4323021",
   "metadata": {},
   "outputs": [],
   "source": []
  },
  {
   "cell_type": "code",
   "execution_count": 9,
   "id": "b518fc27",
   "metadata": {},
   "outputs": [],
   "source": [
    "# Setup the QA chain\n",
    "pipe = pipeline(\"text-generation\", model=model, tokenizer=tokenizer, max_new_tokens=200)\n",
    "rag_llm = HuggingFacePipeline(pipeline=pipe)\n",
    "    \n",
    "qa_chain = RetrievalQA.from_chain_type(llm=rag_llm,\n",
    "                                       chain_type=\"stuff\",\n",
    "                                       chain_type_kwargs={\"prompt\": PROMPT},\n",
    "                                       retriever=doc_store.as_retriever(search_kwargs={\"k\": 5}),\n",
    "                                       return_source_documents=True\n",
    "                                      )"
   ]
  },
  {
   "cell_type": "code",
   "execution_count": 12,
   "id": "e7f6bbfc",
   "metadata": {},
   "outputs": [
    {
     "name": "stdin",
     "output_type": "stream",
     "text": [
      "Please provide your question here : how do I change the key fob battery\n"
     ]
    },
    {
     "name": "stdout",
     "output_type": "stream",
     "text": [
      "{'query': 'how do I change the key fob battery', 'result': 'The process for replacing the Intelligent Key battery in a Nissan Ariya is outlined in the service manual. To change the battery, follow these steps:\\n\\n1. Remove the mechanical key from the Intelligent Key.\\n2. Insert a small screwdriver into the slit (on the right and left sides) and twist it to separate the upper part from the lower part of the Intelligent Key.\\n3. Remove the old battery and replace it with a new CR2032 battery. Make sure the + side of the new battery faces the bottom of the case.\\n4. Align the tips of the upper and lower parts and push them together until it is securely closed.\\n5. Operate the buttons to check its operation.\\n\\nIt is recommended to visit a Nissan certified dealer for this service, as they have the proper training and equipment to perform the replacement correctly.\\n\\nNote: The', 'source_documents': [Document(page_content='Replace the battery in the Intelligent Key\\nas follows:\\n1. Remove the mechanical key from the\\nIntelligent Key.\\n2. Insert a small screwdriver into the slit\\n(on the right and left sides) and twist it\\nto separate the upper part from the\\nDo-it-yourself 8-13INTELLIGENT KEY BATTERY REPLACEMENT', metadata={'source': '/mnt/data/Local-RAG-Customised/nissan/2023-nissan-ariya-owner-manual.pdf', 'page': 560}), Document(page_content='.When the vehicle is parked near a\\nparking meter.\\nIn such cases, correct the operating\\nconditions before using the Intelligent\\nKey function or use the mechanical key.\\nAlthough the life of the battery varies\\ndepending on the operating conditions,\\nthe battery’s life is approximately 2 years.\\nIf the battery is discharged, replace it with\\na new one.\\nWhen the Intelligent Key battery is low, an\\nindicator illuminates in the vehicle infor-\\nmation display. (See “4. Key Battery Lowwarning” (P.2-34).)\\nSince the Intelligent Key is continuously\\nreceiving radio waves, if the key is leftnear equipment which transmits strongradio waves, such as signals from a TV\\nand personal computer, the battery life\\nmay become shorter.\\nFor information regarding replacement of\\na battery, see “Intelligent Key battery\\nreplacement” (P.8-13).\\nAs many as 4 Intelligent Keys can be\\nregistered and used with one vehicle. For\\ninformation about the purchase and use\\nof additional Intelligent Keys, it is recom-', metadata={'source': '/mnt/data/Local-RAG-Customised/nissan/2023-nissan-ariya-owner-manual.pdf', 'page': 264}), Document(page_content='8-14 Do-it-yourselflower part. Use a cloth to protect the\\ncasing.\\n3. Replace the battery with a new one.\\nRecommended battery:\\nCR2032 or equivalent\\n.Do not touch the internal circuit\\nand electric terminals as doing so\\ncould cause a malfunction.\\n.Hold the battery by the edges.\\nHolding the battery across thecontactpointswillseriouslydeplete\\nthe storage capacity.\\n.Make sure that the +side faces the\\nbottom of the case.\\n WBI0015X\\n4. Align the tips of the upper and lower\\nparts, and then push them together\\nuntil it is securely closed.\\n5. Operate the buttons to check its\\noperation.\\nIf you need any assistance for replace-\\nment, it is recommended you visit a\\nNISSAN certified ARIYA dealer for this\\nservice.\\nFCC Notice:For USA:\\nFCC ID : KR5TXPZ1\\nFCC ID : KR5HFM401FCC ID : KR5HFM403\\nThis device complies with Part 15 of theFCC Rules. Operation is subject to the\\nfollowing two conditions: (1) This device\\nmay not cause harmful interference,and (2) this device must accept any', metadata={'source': '/mnt/data/Local-RAG-Customised/nissan/2023-nissan-ariya-owner-manual.pdf', 'page': 561}), Document(page_content='CH-10 Chargingvehicle.\\nTo start normal charge:\\n1. Push the P (Park) position switch to\\nplace the vehicle in the P (Park) posi-\\ntion and apply the parking brake.\\n2. When charging the Li-ion battery,\\nplace the power switch in the OFF\\nposition.\\n3. Open the charge port lid and charge\\nport cap. For additional information,\\nsee “Charge port lid” (P.3-27) and\\n“Charge port cap” (P.3-27).\\nWBT0114X\\n4. Connect the charge connector to the\\ncharge port. If it is connected nor-\\nmally, a beep will sound once.\\n5. If charging has started, a beep will\\nsound twice and the charging statusindicator light will operate. For addi-tional information, see “Charging sta-\\ntus indicator light” (P.CH-38).\\nWBT0115X\\nTo stop normal charge:\\n1. Ensurethatthechargeconnectorlock\\nis not engaged. For additional infor-\\nmation, see “Charge connector lock”\\n(P.CH-33).\\n2. Press the button on the charge con-\\nnector, release the lock and remove\\nthecharge connectorfromthe charge\\nport and properly store it.\\nNOTE:', metadata={'source': '/mnt/data/Local-RAG-Customised/nissan/2023-nissan-ariya-owner-manual.pdf', 'page': 49}), Document(page_content='5-16 Starting and driving\\nWBF0089X\\nINTELLIGENT KEY BATTERY DIS-\\nCHARGE\\nIf the battery of the Intelligent Key is\\ndischarged, or environmental conditions\\ninterfere with the Intelligent Key opera-\\ntion, start the EV (Electric Vehicle) systemin the READY to drive mode according tothe following procedure:\\n1. Push the park button to shift to the P\\n(Park) position.\\n2. Firmly apply the foot brake.3. Push the power switch.\\n4. Touch the power switch with the\\nIntelligent Key as illustrated. (A chime\\nwill sound.)5. Push the power switch while depres-\\nsing the brake pedal within 10 sec-\\nonds after the chime sounds. Thepower switch position changes to\\nREADY to drive.\\nAfterstep3isperformed,whenthepower\\nswitch is pushed without depressing the\\nbrake pedal, the power switch position\\nwill change to ON.\\nNOTE:\\n.When the power switch is pushed to\\nthe ON position or READY to drive\\nposition by the above procedures,\\nthe “Key Battery Low” warning may\\nappear (on the vehicle information', metadata={'source': '/mnt/data/Local-RAG-Customised/nissan/2023-nissan-ariya-owner-manual.pdf', 'page': 355})]}\n"
     ]
    }
   ],
   "source": [
    "# Ask a question\n",
    "user_question = input(\"Please provide your question here :\")\n",
    "result = qa_chain(user_question)\n",
    "print(result['result'])"
   ]
  },
  {
   "cell_type": "code",
   "execution_count": null,
   "id": "05b29e05",
   "metadata": {},
   "outputs": [],
   "source": []
  }
 ],
 "metadata": {
  "dca-init": "true",
  "kernelspec": {
   "display_name": "Python 3 (ipykernel)",
   "language": "python",
   "name": "python3"
  },
  "language_info": {
   "codemirror_mode": {
    "name": "ipython",
    "version": 3
   },
   "file_extension": ".py",
   "mimetype": "text/x-python",
   "name": "python",
   "nbconvert_exporter": "python",
   "pygments_lexer": "ipython3",
   "version": "3.8.10"
  }
 },
 "nbformat": 4,
 "nbformat_minor": 5
}
